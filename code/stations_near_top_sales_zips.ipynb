{
 "cells": [
  {
   "cell_type": "markdown",
   "id": "add1d842",
   "metadata": {},
   "source": [
    "# Picking a BART station by Top Sales?\n",
    "W205, Section 01\n",
    "Annie Cui, Emily Zhou, Shuo Wang\n",
    "\n",
    "## Overview\n",
    "Our goal is to increase AGM brand awareness transbay. One of the ways we'll do that is by piloting pick-up points at 3 BART stations. One of the ways to choose these pick-up points is to identify which stations already have a high number of customers. In this notebook, we'll try a different way: identify the zip codes with the most amount of sales, and see if there's merit to looking at BART stations nearest to the highest-sales zip codes."
   ]
  },
  {
   "cell_type": "code",
   "execution_count": 25,
   "id": "0018682e",
   "metadata": {},
   "outputs": [],
   "source": [
    "import math\n",
    "import numpy as np\n",
    "import pandas as pd\n",
    "\n",
    "import matplotlib.pyplot as plt\n",
    "import seaborn as sns\n",
    "\n",
    "import psycopg2"
   ]
  },
  {
   "cell_type": "code",
   "execution_count": 12,
   "id": "e4feb4a7",
   "metadata": {},
   "outputs": [],
   "source": [
    "#\n",
    "# function to run a select query and return rows in a pandas dataframe\n",
    "# pandas puts all numeric values from postgres to float\n",
    "# if it will fit in an integer, change it to integer\n",
    "#\n",
    "\n",
    "def my_select_query_pandas(query, rollback_before_flag, rollback_after_flag):\n",
    "    \"function to run a select query and return rows in a pandas dataframe\"\n",
    "    \n",
    "    if rollback_before_flag:\n",
    "        connection.rollback()\n",
    "    \n",
    "    df = pd.read_sql_query(query, connection)\n",
    "    \n",
    "    if rollback_after_flag:\n",
    "        connection.rollback()\n",
    "    \n",
    "    # fix the float columns that really should be integers\n",
    "    \n",
    "    for column in df:\n",
    "    \n",
    "        if df[column].dtype == \"float64\":\n",
    "\n",
    "            fraction_flag = False\n",
    "\n",
    "            for value in df[column].values:\n",
    "                \n",
    "                if not np.isnan(value):\n",
    "                    if value - math.floor(value) != 0:\n",
    "                        fraction_flag = True\n",
    "\n",
    "            if not fraction_flag:\n",
    "                df[column] = df[column].astype('Int64')\n",
    "    \n",
    "    return(df)"
   ]
  },
  {
   "cell_type": "code",
   "execution_count": null,
   "id": "2add944e",
   "metadata": {},
   "outputs": [],
   "source": [
    "connection = psycopg2.connect(\n",
    "    user = \"postgres\",\n",
    "    password = \"ucb\",\n",
    "    host = \"postgres\",\n",
    "    port = \"5432\",\n",
    "    database = \"postgres\"\n",
    ")"
   ]
  },
  {
   "cell_type": "markdown",
   "id": "0c8363ed",
   "metadata": {},
   "source": [
    "## Find the top 10 zip codes by total sales\n",
    "This data frame joins the sales table with the customers table and displays the total sales per zip code. To give a sense of the data, I have outputted the top 5 zip codes in a data frame and plotted a bar chart with the top 10 zip codes."
   ]
  },
  {
   "cell_type": "code",
   "execution_count": 45,
   "id": "093fd4b7",
   "metadata": {},
   "outputs": [
    {
     "data": {
      "text/html": [
       "<div>\n",
       "<style scoped>\n",
       "    .dataframe tbody tr th:only-of-type {\n",
       "        vertical-align: middle;\n",
       "    }\n",
       "\n",
       "    .dataframe tbody tr th {\n",
       "        vertical-align: top;\n",
       "    }\n",
       "\n",
       "    .dataframe thead th {\n",
       "        text-align: right;\n",
       "    }\n",
       "</style>\n",
       "<table border=\"1\" class=\"dataframe\">\n",
       "  <thead>\n",
       "    <tr style=\"text-align: right;\">\n",
       "      <th></th>\n",
       "      <th>zip</th>\n",
       "      <th>total_amount_purchased</th>\n",
       "    </tr>\n",
       "  </thead>\n",
       "  <tbody>\n",
       "    <tr>\n",
       "      <th>0</th>\n",
       "      <td>33134</td>\n",
       "      <td>1341708</td>\n",
       "    </tr>\n",
       "    <tr>\n",
       "      <th>1</th>\n",
       "      <td>37206</td>\n",
       "      <td>1151988</td>\n",
       "    </tr>\n",
       "    <tr>\n",
       "      <th>2</th>\n",
       "      <td>37212</td>\n",
       "      <td>1140240</td>\n",
       "    </tr>\n",
       "    <tr>\n",
       "      <th>3</th>\n",
       "      <td>98119</td>\n",
       "      <td>1113564</td>\n",
       "    </tr>\n",
       "    <tr>\n",
       "      <th>4</th>\n",
       "      <td>37210</td>\n",
       "      <td>1008936</td>\n",
       "    </tr>\n",
       "  </tbody>\n",
       "</table>\n",
       "</div>"
      ],
      "text/plain": [
       "     zip  total_amount_purchased\n",
       "0  33134                 1341708\n",
       "1  37206                 1151988\n",
       "2  37212                 1140240\n",
       "3  98119                 1113564\n",
       "4  37210                 1008936"
      ]
     },
     "execution_count": 45,
     "metadata": {},
     "output_type": "execute_result"
    }
   ],
   "source": [
    "rollback_before_flag = True\n",
    "rollback_after_flag = True\n",
    "\n",
    "query = \"\"\"\n",
    "select c.zip,\n",
    "       sum(s.total_amount) as total_amount_purchased\n",
    "from sales as s join customers as c\n",
    "      on s.customer_id = c.customer_id\n",
    "group by c.zip\n",
    "order by total_amount_purchased desc\n",
    "\"\"\"\n",
    "\n",
    "df = my_select_query_pandas(query, rollback_before_flag, rollback_after_flag)\n",
    "df[:5]"
   ]
  },
  {
   "cell_type": "markdown",
   "id": "5b899d62",
   "metadata": {},
   "source": [
    "## Plot the top 10 zip codes in a bar chart"
   ]
  },
  {
   "cell_type": "code",
   "execution_count": 46,
   "id": "5ca4eac8",
   "metadata": {},
   "outputs": [
    {
     "data": {
      "image/png": "[encoded data removed]",
      "text/plain": [
       "<Figure size 1440x720 with 1 Axes>"
      ]
     },
     "metadata": {
      "needs_background": "light"
     },
     "output_type": "display_data"
    }
   ],
   "source": [
    "fig = plt.gcf()\n",
    "fig.set_size_inches(20, 10)\n",
    "\n",
    "sns.barplot(data=df[:10], x=\"zip\", y=\"total_amount_purchased\")\n",
    "plt.title('Customer Zip Code by Total Amount Purchased', fontdict={'fontsize': 20})\n",
    "plt.xlabel('Customer\\'s Delivery Zip Code', fontdict={'fontsize': 16})\n",
    "plt.ylabel('Total Amount Purchased (in dollars)', fontdict={'fontsize': 16})\n",
    "plt.show()"
   ]
  },
  {
   "cell_type": "markdown",
   "id": "7dc6d04f",
   "metadata": {},
   "source": [
    "## Is there a correlation between more customers and more sales?\n",
    "Now, we'll find the closest BART stations in the zip codes where customers are spending the most. The hope is that customers who are spending more will make the pick-up stations more successful. But we hypothesize that maybe the zip codes with more customers are also the ones with more sales. It might be sufficient to only look at zip codes and total number of customers. This would save compute time, because we would only need to join the customers table with the BART-related tables. "
   ]
  },
  {
   "cell_type": "code",
   "execution_count": 42,
   "id": "be7da15b",
   "metadata": {},
   "outputs": [
    {
     "data": {
      "text/html": [
       "<div>\n",
       "<style scoped>\n",
       "    .dataframe tbody tr th:only-of-type {\n",
       "        vertical-align: middle;\n",
       "    }\n",
       "\n",
       "    .dataframe tbody tr th {\n",
       "        vertical-align: top;\n",
       "    }\n",
       "\n",
       "    .dataframe thead th {\n",
       "        text-align: right;\n",
       "    }\n",
       "</style>\n",
       "<table border=\"1\" class=\"dataframe\">\n",
       "  <thead>\n",
       "    <tr style=\"text-align: right;\">\n",
       "      <th></th>\n",
       "      <th>zip</th>\n",
       "      <th>num_customers</th>\n",
       "      <th>total_amount_purchased</th>\n",
       "    </tr>\n",
       "  </thead>\n",
       "  <tbody>\n",
       "    <tr>\n",
       "      <th>0</th>\n",
       "      <td>33134</td>\n",
       "      <td>419</td>\n",
       "      <td>1341708</td>\n",
       "    </tr>\n",
       "    <tr>\n",
       "      <th>1</th>\n",
       "      <td>98117</td>\n",
       "      <td>315</td>\n",
       "      <td>872520</td>\n",
       "    </tr>\n",
       "    <tr>\n",
       "      <th>2</th>\n",
       "      <td>98125</td>\n",
       "      <td>296</td>\n",
       "      <td>846804</td>\n",
       "    </tr>\n",
       "    <tr>\n",
       "      <th>3</th>\n",
       "      <td>94602</td>\n",
       "      <td>260</td>\n",
       "      <td>848292</td>\n",
       "    </tr>\n",
       "    <tr>\n",
       "      <th>4</th>\n",
       "      <td>94530</td>\n",
       "      <td>258</td>\n",
       "      <td>827292</td>\n",
       "    </tr>\n",
       "  </tbody>\n",
       "</table>\n",
       "</div>"
      ],
      "text/plain": [
       "     zip  num_customers  total_amount_purchased\n",
       "0  33134            419                 1341708\n",
       "1  98117            315                  872520\n",
       "2  98125            296                  846804\n",
       "3  94602            260                  848292\n",
       "4  94530            258                  827292"
      ]
     },
     "execution_count": 42,
     "metadata": {},
     "output_type": "execute_result"
    }
   ],
   "source": [
    "rollback_before_flag = True\n",
    "rollback_after_flag = True\n",
    "\n",
    "query = \"\"\"\n",
    "with a as \n",
    "(\n",
    "  select zip,\n",
    "         count(*) as num_customers\n",
    "  from customers\n",
    "  group by zip\n",
    "  order by num_customers desc\n",
    "),\n",
    "b as\n",
    "(\n",
    "  select c.zip,\n",
    "         sum(s.total_amount) as total_amount_purchased\n",
    "  from sales as s join customers as c\n",
    "        on s.customer_id = c.customer_id\n",
    "  group by c.zip\n",
    "  order by total_amount_purchased desc\n",
    ")\n",
    "select a.zip,\n",
    "       a.num_customers,\n",
    "       b.total_amount_purchased\n",
    "from a join b\n",
    "       on a.zip = b.zip\n",
    "\"\"\"\n",
    "\n",
    "df = my_select_query_pandas(query, rollback_before_flag, rollback_after_flag)\n",
    "df[:5]"
   ]
  },
  {
   "cell_type": "markdown",
   "id": "44d3b49c",
   "metadata": {},
   "source": [
    "## Scatterplot of Zip Code Data\n",
    "Below is the scatter plot of customer zip codes. The total sales in dollars against the total customers in the zip code."
   ]
  },
  {
   "cell_type": "code",
   "execution_count": 43,
   "id": "c447b597",
   "metadata": {},
   "outputs": [
    {
     "data": {
      "image/png": "[encoded data removed]",
      "text/plain": [
       "<Figure size 720x360 with 1 Axes>"
      ]
     },
     "metadata": {
      "needs_background": "light"
     },
     "output_type": "display_data"
    }
   ],
   "source": [
    "plt.figure(figsize=(10,5))\n",
    "plt.scatter(df['num_customers'], df['total_amount_purchased'])\n",
    "plt.title('Number of Customers versus Total Sales per Zip Code')\n",
    "plt.xlabel('Number of Customers in Zip Code')\n",
    "plt.ylabel('Total Sales in Zip Code')\n",
    "plt.show()"
   ]
  },
  {
   "cell_type": "markdown",
   "id": "19219bc2",
   "metadata": {},
   "source": [
    "We can see above, those two variables are correlated positively. In the past, we see that generally, a zip code with more customers also has more sales. So we'll take the assumption that a zip code with more unique customers will also have more sales. This way, we can avoid needing to also join the sales table to the customers table."
   ]
  },
  {
   "cell_type": "code",
   "execution_count": null,
   "id": "d1b32bc9",
   "metadata": {},
   "outputs": [],
   "source": []
  }
 ],
 "metadata": {
  "kernelspec": {
   "display_name": "Python 3",
   "language": "python",
   "name": "python3"
  },
  "language_info": {
   "codemirror_mode": {
    "name": "ipython",
    "version": 3
   },
   "file_extension": ".py",
   "mimetype": "text/x-python",
   "name": "python",
   "nbconvert_exporter": "python",
   "pygments_lexer": "ipython3",
   "version": "3.8.8"
  }
 },
 "nbformat": 4,
 "nbformat_minor": 5
}
