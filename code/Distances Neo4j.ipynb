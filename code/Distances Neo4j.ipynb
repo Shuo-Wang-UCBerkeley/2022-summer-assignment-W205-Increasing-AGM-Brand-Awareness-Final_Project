{
 "cells": [
  {
   "cell_type": "code",
   "execution_count": 1,
   "id": "530d745a",
   "metadata": {},
   "outputs": [],
   "source": [
    "import neo4j\n",
    "import csv\n",
    "import math\n",
    "import numpy as np\n",
    "import pandas as pd\n",
    "import psycopg2"
   ]
  },
  {
   "cell_type": "markdown",
   "id": "c91c8869",
   "metadata": {},
   "source": [
    "# Supporting code (from solutions)\n",
    "\n",
    "Code cells containing any supporting code, such as connecting to the database, any functions, etc.  \n",
    "\n",
    "Remember you can freely use any code from the labs. You do not need to cite code from the labs.\n",
    "\n",
    "Some starter code is provided\n",
    "\n",
    "You may change the starter code as needed\n",
    "\n",
    "You may add as much code and/or as many code cells as you need"
   ]
  },
  {
   "cell_type": "code",
   "execution_count": 2,
   "id": "ecf679ef",
   "metadata": {},
   "outputs": [],
   "source": [
    "driver = neo4j.GraphDatabase.driver(uri=\"neo4j://neo4j:7687\", auth=(\"neo4j\",\"w205\"))"
   ]
  },
  {
   "cell_type": "code",
   "execution_count": 3,
   "id": "b55e660f",
   "metadata": {},
   "outputs": [],
   "source": [
    "session = driver.session(database=\"neo4j\")"
   ]
  },
  {
   "cell_type": "code",
   "execution_count": 4,
   "id": "cfecc37e",
   "metadata": {},
   "outputs": [],
   "source": [
    "def my_neo4j_shortest_path(from_station, to_station):\n",
    "    \"given a from station and to station, run and print the shortest path\"\n",
    "    \n",
    "    query = \"CALL gds.graph.drop('ds_graph', false)\"\n",
    "    session.run(query)\n",
    "\n",
    "    query = \"CALL gds.graph.create('ds_graph', 'Station', 'LINK', {relationshipProperties: 'weight'})\"\n",
    "    session.run(query)\n",
    "\n",
    "    query = \"\"\"\n",
    "\n",
    "    MATCH (source:Station {name: $source}), (target:Station {name: $target})\n",
    "    CALL gds.shortestPath.dijkstra.stream(\n",
    "        'ds_graph', \n",
    "        { sourceNode: source, \n",
    "          targetNode: target, \n",
    "          relationshipWeightProperty: 'weight'\n",
    "        }\n",
    "    )\n",
    "    YIELD index, sourceNode, targetNode, totalCost, nodeIds, costs, path\n",
    "    RETURN\n",
    "        gds.util.asNode(sourceNode).name AS from,\n",
    "        gds.util.asNode(targetNode).name AS to,\n",
    "        totalCost,\n",
    "        [nodeId IN nodeIds | gds.util.asNode(nodeId).name] AS nodes,\n",
    "        costs\n",
    "    ORDER BY index\n",
    "\n",
    "    \"\"\"\n",
    "\n",
    "    result = session.run(query, source=from_station, target=to_station)\n",
    "    \n",
    "    for r in result:\n",
    "        \n",
    "        total_cost = int(r['totalCost'])\n",
    "        \n",
    "        print(\"\\n--------------------------------\")\n",
    "        print(\"   Total Cost: \", total_cost)\n",
    "        print(\"   Minutes: \", round(total_cost / 60.0,1))\n",
    "        print(\"--------------------------------\")\n",
    "        \n",
    "        nodes = r['nodes']\n",
    "        costs = r['costs']\n",
    "        \n",
    "        i = 0\n",
    "        previous = 0\n",
    "        \n",
    "        for n in nodes:\n",
    "            \n",
    "            print(n + \", \" + str(int(costs[i]) - previous)  + \", \" + str(int(costs[i])))\n",
    "            \n",
    "            previous = int(costs[i])\n",
    "            i += 1\n",
    "    "
   ]
  },
  {
   "cell_type": "markdown",
   "id": "c0139cc0",
   "metadata": {},
   "source": [
    "# 1. Find the shortest path between Downtown Berkeley Stations\n",
    "\n"
   ]
  },
  {
   "cell_type": "code",
   "execution_count": 5,
   "id": "bb222c61",
   "metadata": {},
   "outputs": [
    {
     "name": "stdout",
     "output_type": "stream",
     "text": [
      "\n",
      "--------------------------------\n",
      "   Total Cost:  1860\n",
      "   Minutes:  31.0\n",
      "--------------------------------\n",
      "depart Downtown Berkeley, 0, 0\n",
      "red Downtown Berkeley, 0, 0\n",
      "red Ashby, 180, 180\n",
      "red MacArthur, 240, 420\n",
      "red 19th Street, 180, 600\n",
      "red 12th Street, 120, 720\n",
      "red West Oakland, 300, 1020\n",
      "red Embarcadero, 420, 1440\n",
      "red Montgomery Street, 60, 1500\n",
      "red Powell Street, 120, 1620\n",
      "red Civic Center, 60, 1680\n",
      "red 16th Street Mission, 180, 1860\n",
      "arrive 16th Street Mission, 0, 1860\n"
     ]
    }
   ],
   "source": [
    "my_neo4j_shortest_path('depart Downtown Berkeley', 'arrive 16th Street Mission')"
   ]
  },
  {
   "cell_type": "code",
   "execution_count": 6,
   "id": "9d5e3bcb",
   "metadata": {},
   "outputs": [
    {
     "name": "stdout",
     "output_type": "stream",
     "text": [
      "\n",
      "--------------------------------\n",
      "   Total Cost:  1440\n",
      "   Minutes:  24.0\n",
      "--------------------------------\n",
      "depart Downtown Berkeley, 0, 0\n",
      "red Downtown Berkeley, 0, 0\n",
      "red Ashby, 180, 180\n",
      "red MacArthur, 240, 420\n",
      "red 19th Street, 180, 600\n",
      "red 12th Street, 120, 720\n",
      "red West Oakland, 300, 1020\n",
      "red Embarcadero, 420, 1440\n",
      "arrive Embarcadero, 0, 1440\n"
     ]
    }
   ],
   "source": [
    "my_neo4j_shortest_path('depart Downtown Berkeley', 'arrive Embarcadero')"
   ]
  },
  {
   "cell_type": "code",
   "execution_count": 13,
   "id": "0273dca7",
   "metadata": {},
   "outputs": [
    {
     "name": "stdout",
     "output_type": "stream",
     "text": [
      "\n",
      "--------------------------------\n",
      "   Total Cost:  1019\n",
      "   Minutes:  17.0\n",
      "--------------------------------\n",
      "depart Downtown Berkeley, 0, 0\n",
      "orange Downtown Berkeley, 0, 0\n",
      "orange Ashby, 180, 180\n",
      "orange MacArthur, 240, 420\n",
      "yellow MacArthur, 59, 479\n",
      "yellow Rockridge, 240, 719\n",
      "yellow Orinda, 300, 1019\n",
      "arrive Orinda, 0, 1019\n"
     ]
    }
   ],
   "source": [
    "my_neo4j_shortest_path('depart Downtown Berkeley', 'arrive Orinda')"
   ]
  },
  {
   "cell_type": "code",
   "execution_count": 15,
   "id": "db8ae989",
   "metadata": {},
   "outputs": [
    {
     "name": "stdout",
     "output_type": "stream",
     "text": [
      "\n",
      "--------------------------------\n",
      "   Total Cost:  1200\n",
      "   Minutes:  20.0\n",
      "--------------------------------\n",
      "depart Downtown Berkeley, 0, 0\n",
      "orange Downtown Berkeley, 0, 0\n",
      "orange Ashby, 180, 180\n",
      "orange MacArthur, 240, 420\n",
      "orange 19th Street, 180, 600\n",
      "orange 12th Street, 120, 720\n",
      "orange Lake Merritt, 180, 900\n",
      "orange Fruitvale, 300, 1200\n",
      "arrive Fruitvale, 0, 1200\n"
     ]
    }
   ],
   "source": [
    "my_neo4j_shortest_path('depart Downtown Berkeley', 'arrive Fruitvale')"
   ]
  },
  {
   "cell_type": "code",
   "execution_count": null,
   "id": "e1dd3b0d",
   "metadata": {},
   "outputs": [],
   "source": []
  }
 ],
 "metadata": {
  "kernelspec": {
   "display_name": "Python 3",
   "language": "python",
   "name": "python3"
  },
  "language_info": {
   "codemirror_mode": {
    "name": "ipython",
    "version": 3
   },
   "file_extension": ".py",
   "mimetype": "text/x-python",
   "name": "python",
   "nbconvert_exporter": "python",
   "pygments_lexer": "ipython3",
   "version": "3.8.8"
  }
 },
 "nbformat": 4,
 "nbformat_minor": 5
}
